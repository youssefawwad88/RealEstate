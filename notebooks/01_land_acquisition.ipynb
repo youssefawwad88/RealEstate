{
 "cells": [
  {
   "cell_type": "markdown",
   "metadata": {},
   "source": [
    "# Land Acquisition Analysis - TerraFlow\n",
    "\n",
    "This notebook provides a complete interface for land acquisition data collection and residual value analysis."
   ]
  },
  {
   "cell_type": "code",
   "execution_count": null,
   "metadata": {},
   "outputs": [],
   "source": [
    "# Import required libraries\n",
    "import pandas as pd\n",
    "import numpy as np\n",
    "from pathlib import Path\n",
    "import sys\n",
    "\n",
    "# Add project root to path for imports\n",
    "project_root = Path.cwd().parent if Path.cwd().name == 'notebooks' else Path.cwd()\n",
    "sys.path.append(str(project_root))\n",
    "\n",
    "from modules.land_acquisition import (\n",
    "    validate_inputs,\n",
    "    save_inputs_to_csv,\n",
    "    get_acquisition_summary\n",
    ")\n",
    "from modules.deal_model import LandDeal, LandInputs, create_deal_from_dict\n",
    "from modules.market_lookup import load_market_data, validate_inputs_against_market, get_market_summary\n",
    "from utils.scoring import get_color_indicator, format_currency\n",
    "\n",
    "print(\"\u2705 TerraFlow Land Acquisition Module Loaded\")\n",
    "print(\"\ud83d\udcca Residual value calculation engine ready\")"
   ]
  },
  {
   "cell_type": "markdown",
   "metadata": {},
   "source": [
    "## Market Research\n",
    "\n",
    "First, let's check market benchmarks for context:"
   ]
  },
  {
   "cell_type": "code",
   "execution_count": null,
   "metadata": {},
   "outputs": [],
   "source": [
    "# Select your market (available: toronto, vancouver, calgary, montreal, default)\n",
    "MARKET_CITY = 'toronto'\n",
    "\n",
    "# Load market data\n",
    "market_data = load_market_data(MARKET_CITY)\n",
    "market_summary = get_market_summary(MARKET_CITY)\n",
    "\n",
    "print(f\"\ud83d\udccd Market Research: {market_summary['city']}\")\n",
    "print(f\"   Land Price Range: {market_summary['land_price_range']} /sqm\")\n",
    "print(f\"   Sale Price Range: {market_summary['sale_price_range']} /sqm\")\n",
    "print(f\"   Construction Cost: {market_summary['construction_cost_avg']} /sqm\")\n",
    "print(f\"   Absorption Rate: {market_summary['absorption_rate']}\")\n",
    "print(f\"   Typical Land % GDV: {market_summary['typical_land_gdv']}\")\n",
    "print(f\"   Typical Profit Margin: {market_summary['typical_profit']}\")\n",
    "print(f\"   Market Strength: {market_summary['market_strength']}\")\n",
    "print(f\"   Last Updated: {market_summary['last_updated']}\")"
   ]
  },
  {
   "cell_type": "markdown",
   "metadata": {},
   "source": [
    "## Data Collection\n",
    "\n",
    "Fill in the land acquisition parameters below:"
   ]
  },
  {
   "cell_type": "code",
   "execution_count": null,
   "metadata": {},
   "outputs": [],
   "source": [
    "# Land acquisition inputs (modify these values)\n",
    "land_inputs = {\n",
    "    # Site Information\n",
    "    'site_name': 'Queen Street West Site',\n",
    "    'land_area_sqm': 1500.0,\n",
    "    'asking_price': 750000.0,\n",
    "    'taxes_fees': 37500.0,\n",
    "    \n",
    "    # Zoning & Development\n",
    "    'zoning': 'Mixed-use Residential',\n",
    "    'far': 2.0,  # Floor Area Ratio\n",
    "    'coverage': 0.45,  # Site coverage ratio\n",
    "    'max_floors': 6,\n",
    "    'efficiency_ratio': 0.87,  # Net sellable area ratio\n",
    "    \n",
    "    # Market Assumptions\n",
    "    'expected_sale_price_psm': 4200.0,  # Sale price per sqm\n",
    "    'construction_cost_psm': 2100.0,    # Construction cost per sqm\n",
    "    'soft_cost_pct': 0.16,              # Soft costs as % of hard costs\n",
    "    'profit_target_pct': 0.20,          # Developer profit target %\n",
    "    \n",
    "    # Additional Costs\n",
    "    'financing_cost': 45000.0,          # Interest during construction\n",
    "    'holding_period_months': 30         # Development timeline\n",
    "}\n",
    "\n",
    "print(\"\ud83d\udcdd Land acquisition inputs configured.\")"
   ]
  },
  {
   "cell_type": "code",
   "execution_count": null,
   "metadata": {},
   "outputs": [],
   "source": [
    "# Validate inputs against market benchmarks\n",
    "market_warnings = validate_inputs_against_market(land_inputs, MARKET_CITY)\n",
    "\n",
    "if market_warnings:\n",
    "    print(\"\u26a0\ufe0f Market Validation Warnings:\")\n",
    "    for field, warning in market_warnings.items():\n",
    "        print(f\"   {field}: {warning}\")\n",
    "else:\n",
    "    print(\"\u2705 Inputs align with market benchmarks\")\n",
    "\n",
    "# Basic input validation\n",
    "try:\n",
    "    validated_inputs = validate_inputs(land_inputs)\n",
    "    print(\"\u2705 Input validation passed\")\n",
    "except ValueError as e:\n",
    "    print(f\"\u274c Validation error: {e}\")\n",
    "    raise"
   ]
  },
  {
   "cell_type": "markdown",
   "metadata": {},
   "source": [
    "## Financial Analysis\n",
    "\n",
    "Now let's run the complete residual land value analysis:"
   ]
  },
  {
   "cell_type": "code",
   "execution_count": null,
   "metadata": {},
   "outputs": [],
   "source": [
    "# Create and analyze the deal\n",
    "deal = create_deal_from_dict(land_inputs)\n",
    "\n",
    "print(\"\ud83c\udfd7\ufe0f Development Capacity Analysis:\")\n",
    "print(f\"   Gross Buildable Area: {deal.outputs.gross_buildable_sqm:,.0f} sqm\")\n",
    "print(f\"   Net Sellable Area: {deal.outputs.net_sellable_sqm:,.0f} sqm\")\n",
    "print(f\"   Efficiency Ratio: {deal.inputs.efficiency_ratio:.1%}\")\n",
    "print()\n",
    "\n",
    "print(\"\ud83d\udcb0 Financial Analysis:\")\n",
    "print(f\"   Gross Development Value: {format_currency(deal.outputs.gdv)}\")\n",
    "print(f\"   Hard Costs: {format_currency(deal.outputs.hard_costs)}\")\n",
    "print(f\"   Soft Costs: {format_currency(deal.outputs.soft_costs)}\")\n",
    "print(f\"   Total Development Cost: {format_currency(deal.outputs.total_dev_cost)}\")\n",
    "print(f\"   Required Profit ({deal.inputs.profit_target_pct:.0%}): {format_currency(deal.outputs.required_profit)}\")\n",
    "print()\n",
    "\n",
    "print(\"\ud83c\udfaf Land Valuation:\")\n",
    "print(f\"   Residual Land Value: {format_currency(deal.outputs.residual_land_value)}\")\n",
    "print(f\"   Asking Price: {format_currency(deal.inputs.asking_price)}\")\n",
    "print(f\"   Difference: {format_currency(deal.outputs.asking_vs_residual)}\")\n",
    "print(f\"   Land % of GDV: {deal.outputs.land_pct_gdv:.1f}%\")\n",
    "print(f\"   Breakeven Sale Price: {format_currency(deal.outputs.breakeven_sale_price)}/sqm\")"
   ]
  },
  {
   "cell_type": "code",
   "execution_count": null,
   "metadata": {},
   "outputs": [],
   "source": [
    "# Display viability scores\n",
    "print(\"\ud83d\udcca Viability Assessment:\")\n",
    "print(f\"   Residual vs Asking: {get_color_indicator(deal.viability.residual_score)} {deal.viability.residual_status}\")\n",
    "print(f\"   Land % of GDV: {get_color_indicator(deal.viability.land_pct_score)} {deal.viability.land_pct_status}\")\n",
    "print(f\"   Breakeven Risk: {get_color_indicator(deal.viability.breakeven_score)} {deal.viability.breakeven_status}\")\n",
    "print()\n",
    "print(f\"\ud83c\udfaf Overall Assessment: {get_color_indicator(deal.viability.overall_score)} {deal.viability.overall_status}\")\n",
    "\n",
    "# Show sensitivity analysis\n",
    "print()\n",
    "print(\"\ud83d\udcc8 Sensitivity Analysis:\")\n",
    "print(f\"   Base Case: {format_currency(deal.sensitivity.base_residual)}\")\n",
    "print(f\"   Sales -10%: {format_currency(deal.sensitivity.sales_down_10pct)} ({format_currency(deal.sensitivity.sales_impact)} impact)\")\n",
    "print(f\"   Costs +10%: {format_currency(deal.sensitivity.costs_up_10pct)} ({format_currency(deal.sensitivity.costs_impact)} impact)\")"
   ]
  },
  {
   "cell_type": "markdown",
   "metadata": {},
   "source": [
    "## Data Export\n",
    "\n",
    "Save the analysis results for dashboard and comparison:"
   ]
  },
  {
   "cell_type": "code",
   "execution_count": null,
   "metadata": {},
   "outputs": [],
   "source": [
    "# Save to CSV for tracking and dashboard use\n",
    "try:\n",
    "    # Convert deal to DataFrame row\n",
    "    deal_row = {**land_inputs}\n",
    "    deal_row.update({\n",
    "        'residual_land_value': deal.outputs.residual_land_value,\n",
    "        'land_pct_gdv': deal.outputs.land_pct_gdv,\n",
    "        'breakeven_sale_price': deal.outputs.breakeven_sale_price,\n",
    "        'overall_score': deal.viability.overall_score,\n",
    "        'overall_status': deal.viability.overall_status,\n",
    "        'gdv': deal.outputs.gdv,\n",
    "        'total_dev_cost': deal.outputs.total_dev_cost,\n",
    "        'analysis_date': pd.Timestamp.now().strftime('%Y-%m-%d'),\n",
    "        'market_city': MARKET_CITY\n",
    "    })\n",
    "    \n",
    "    df_new = pd.DataFrame([deal_row])\n",
    "    \n",
    "    # Append to existing data\n",
    "    csv_path = project_root / 'data' / 'processed' / 'acquisitions.csv'\n",
    "    \n",
    "    if csv_path.exists():\n",
    "        df_existing = pd.read_csv(csv_path)\n",
    "        df_combined = pd.concat([df_existing, df_new], ignore_index=True)\n",
    "    else:\n",
    "        df_combined = df_new\n",
    "    \n",
    "    df_combined.to_csv(csv_path, index=False)\n",
    "    print(f\"\ud83d\udcc1 Analysis saved to: {csv_path}\")\n",
    "    print(f\"\ud83d\udcca Total deals in database: {len(df_combined)}\")\n",
    "    \n",
    "except Exception as e:\n",
    "    print(f\"\u274c Save error: {e}\")"
   ]
  },
  {
   "cell_type": "markdown",
   "metadata": {},
   "source": [
    "## Summary Table\n",
    "\n",
    "Quick summary for comparison with other sites:"
   ]
  },
  {
   "cell_type": "code",
   "execution_count": null,
   "metadata": {},
   "outputs": [],
   "source": [
    "# Create summary table\n",
    "summary_data = {\n",
    "    'Metric': [\n",
    "        'Site Name',\n",
    "        'Land Area (sqm)',\n",
    "        'Asking Price',\n",
    "        'Price per sqm',\n",
    "        'Residual Land Value',\n",
    "        'Land % of GDV',\n",
    "        'Breakeven Price/sqm',\n",
    "        'Overall Score'\n",
    "    ],\n",
    "    'Value': [\n",
    "        deal.inputs.site_name,\n",
    "        f\"{deal.inputs.land_area_sqm:,.0f}\",\n",
    "        format_currency(deal.inputs.asking_price),\n",
    "        format_currency(deal.outputs.land_psm),\n",
    "        format_currency(deal.outputs.residual_land_value),\n",
    "        f\"{deal.outputs.land_pct_gdv:.1f}%\",\n",
    "        format_currency(deal.outputs.breakeven_sale_price),\n",
    "        f\"{get_color_indicator(deal.viability.overall_score)} {deal.viability.overall_status}\"\n",
    "    ]\n",
    "}\n",
    "\n",
    "summary_df = pd.DataFrame(summary_data)\n",
    "display(summary_df)"
   ]
  },
  {
   "cell_type": "markdown",
   "metadata": {},
   "source": [
    "## Next Steps\n",
    "\n",
    "1. **Dashboard Review**: View results in Streamlit dashboard for visual analysis\n",
    "2. **Sensitivity Testing**: Adjust key assumptions and re-run analysis\n",
    "3. **Market Comparison**: Compare with other sites in the database\n",
    "4. **Risk Assessment**: Review warnings and flags for decision making\n",
    "\n",
    "The complete analysis is now saved and ready for dashboard visualization and further comparison analysis."
   ]
  }
 ],
 "metadata": {
  "kernelspec": {
   "display_name": "Python 3",
   "language": "python",
   "name": "python3"
  },
  "language_info": {
   "codemirror_mode": {
    "name": "ipython",
    "version": 3
   },
   "file_extension": ".py",
   "mimetype": "text/x-python",
   "name": "python",
   "nbconvert_exporter": "python",
   "pygments_lexer": "ipython3",
   "version": "3.11.0"
  }
 },
 "nbformat": 4,
 "nbformat_minor": 2
}