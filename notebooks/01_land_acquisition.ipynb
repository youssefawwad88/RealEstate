{
 "cells": [
  {
   "cell_type": "markdown",
   "metadata": {},
   "source": [
    "# Land Acquisition Analysis - TerraFlow\n",
    "\n",
    "This notebook provides a simple interface for land acquisition data collection and preliminary analysis."
   ]
  },
  {
   "cell_type": "code",
   "execution_count": null,
   "metadata": {},
   "outputs": [],
   "source": [
    "# Import required libraries\n",
    "import pandas as pd\n",
    "import numpy as np\n",
    "from pathlib import Path\n",
    "import sys\n",
    "\n",
    "# Add project root to path for imports\n",
    "project_root = Path.cwd().parent if Path.cwd().name == 'notebooks' else Path.cwd()\n",
    "sys.path.append(str(project_root))\n",
    "\n",
    "from modules.land_acquisition import (\n",
    "    collect_land_inputs,\n",
    "    validate_inputs,\n",
    "    save_inputs_to_csv,\n",
    "    get_acquisition_summary\n",
    ")\n",
    "\n",
    "print(\"TerraFlow Land Acquisition Module Loaded\")"
   ]
  },
  {
   "cell_type": "markdown",
   "metadata": {},
   "source": [
    "## Data Collection\n",
    "\n",
    "Fill in the land acquisition parameters below:"
   ]
  },
  {
   "cell_type": "code",
   "execution_count": null,
   "metadata": {},
   "outputs": [],
   "source": [
    "# Land acquisition inputs (modify these values)\n",
    "land_inputs = {\n",
    "    # Site Information\n",
    "    'site_name': 'Downtown Plot A',\n",
    "    'land_area_sqm': 1200.0,\n",
    "    'asking_price': 600000.0,\n",
    "    'taxes_fees': 30000.0,\n",
    "    \n",
    "    # Zoning & Development\n",
    "    'zoning': 'Mixed-use Residential',\n",
    "    'far': 1.5,  # Floor Area Ratio\n",
    "    'coverage': 0.4,  # Site coverage ratio\n",
    "    'max_floors': 4,\n",
    "    'efficiency_ratio': 0.85,  # Net sellable area ratio\n",
    "    \n",
    "    # Market Assumptions\n",
    "    'expected_sale_price_psm': 4000.0,  # Sale price per sqm\n",
    "    'construction_cost_psm': 2000.0,    # Construction cost per sqm\n",
    "    'soft_cost_pct': 0.15,              # Soft costs as % of hard costs\n",
    "    'profit_target_pct': 0.20           # Developer profit target %\n",
    "}\n",
    "\n",
    "print(\"Land acquisition inputs configured.\")"
   ]
  },
  {
   "cell_type": "code",
   "execution_count": null,
   "metadata": {},
   "outputs": [],
   "source": [
    "# Validate inputs\n",
    "try:\n",
    "    validated_inputs = validate_inputs(land_inputs)\n",
    "    print(\"✅ Inputs validation passed\")\n",
    "    \n",
    "    # Display summary\n",
    "    summary = get_acquisition_summary(validated_inputs)\n",
    "    print(\"\\n📊 Acquisition Summary:\")\n",
    "    for key, value in summary.items():\n",
    "        print(f\"  {key}: {value}\")\n",
    "        \n",
    "except ValueError as e:\n",
    "    print(f\"❌ Validation error: {e}\")"
   ]
  },
  {
   "cell_type": "code",
   "execution_count": null,
   "metadata": {},
   "outputs": [],
   "source": [
    "# Save to CSV for tracking\n",
    "try:\n",
    "    saved_path = save_inputs_to_csv(validated_inputs)\n",
    "    print(f\"📁 Data saved to: {saved_path}\")\n",
    "except Exception as e:\n",
    "    print(f\"❌ Save error: {e}\")"
   ]
  },
  {
   "cell_type": "markdown",
   "metadata": {},
   "source": [
    "## Next Steps\n",
    "\n",
    "1. **Financial Analysis**: Run residual land value calculations\n",
    "2. **Risk Assessment**: Evaluate viability scores and flags\n",
    "3. **Dashboard**: View results in Streamlit dashboard\n",
    "\n",
    "This data will be used by the deal modeling system to calculate:\n",
    "- Buildable area and GDV\n",
    "- Construction and development costs\n",
    "- Residual land value\n",
    "- Viability indicators and risk flags"
   ]
  }
 ],
 "metadata": {
  "kernelspec": {
   "display_name": "Python 3",
   "language": "python",
   "name": "python3"
  },
  "language_info": {
   "codemirror_mode": {
    "name": "ipython",
    "version": 3
   },
   "file_extension": ".py",
   "mimetype": "text/x-python",
   "name": "python",
   "nbconvert_exporter": "python",
   "pygments_lexer": "ipython3",
   "version": "3.11.0"
  }
 },
 "nbformat": 4,
 "nbformat_minor": 2
}